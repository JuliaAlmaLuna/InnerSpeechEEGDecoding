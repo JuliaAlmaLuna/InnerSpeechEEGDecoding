{
 "cells": [
  {
   "cell_type": "code",
   "execution_count": 18,
   "metadata": {},
   "outputs": [
    {
     "name": "stdout",
     "output_type": "stream",
     "text": [
      "\n"
     ]
    },
    {
     "data": {
      "image/png": "[encoded data removed]",
      "text/plain": [
       "<Figure size 432x288 with 1 Axes>"
      ]
     },
     "metadata": {
      "needs_background": "light"
     },
     "output_type": "display_data"
    }
   ],
   "source": [
    "import numpy as np\n",
    "import matplotlib.pyplot as plt\n",
    "\n",
    "plt.figure() \n",
    "# each row is a subject. Each column is a paradigm. Each value is best result for that subject/paradigm\n",
    "bestResultsPerParadigm = np.array([[2,3,8],\n",
    "                                   [4,5,8],\n",
    "                                   [4,5,1], \n",
    "                                   [4,5,2], \n",
    "                                   [1,2,6], \n",
    "                                   [4,5,3], \n",
    "                                   [3,1,8], \n",
    "                                   [4,5,1],\n",
    "                                   [8,5,8]])\n",
    "\n",
    "# First boxplot: first dim should be best results for all subjects for one \"paradigm/word combo\", second and onwards same but new paradigm\n",
    "# Second boxplot: Each dim should be a separate feature, containing best result for each subject. Do one plot each per paradigm\n",
    "# Third boxplot: Each dim should be best average result over all subjects for one paradigm/word combo. .... next dims, second best average mby not\n",
    "# This third one is not really boxplot. More like, Like \"tower\" plot\n",
    "# Do one boxplot per each paradigm. Start with these!\n",
    "# Then, better explain all the steps. \n",
    "\n",
    "plt.boxplot(bestResultsPerParadigm)\n",
    "\n",
    "# Best results udrl inner, \n",
    "\n",
    "# Accuracy 0.8 : subject 2, feature:dataHRCV-BCcn3-dataWCV-BCcn3--welchDataBC, kernellinear, C:2.5\n",
    "\n",
    "# Accuracy 0.79 : subject 5, feature:dataHRCV-BCcn3-welchDatacn3--welchDataBC, kernellinear, C:2.5\n",
    "\n",
    "# Accuracy 0.78 : subject 4, feature:welchDatacn3BC-fftDatacn3BC--welchData, kernellinear, C:2.5\n",
    "\n",
    "# Accuracy 0.76 : subject 9, feature:fftDatacn3BC-dataHRCV-BCcn3--welchDatacn3, kernellinear, C:2.5\n",
    "\n",
    "# Accuracy 0.76 : subject 7, feature:dataHRCV-BCcn3-welchDataBC--welchData, kernelrbf, C:2.5\n",
    "\n",
    "# Accuracy 0.75 : subject 3, feature:dataHRCV-BCcn3-welchDataBC--welchData, kernelsigmoid, C:1.2\n",
    "\n",
    "# Accuracy 0.75 : subject 8, feature:dataCorr1dcn3BC-fftDatacn3--fftDataBC, kernelrbf, C:5\n",
    "\n",
    "# Accuracy 0.74 : subject 1, feature:dataCorr1dcn3BC-fftDatacn3--fftDataBC, kernellinear, C:2.5\n",
    "\n",
    "# Accuracy 0.73 : subject 6, feature:fftDatacn3BC-welchDataBC--fftDataBC, kernellinear, C:2.5\n",
    "print(\"\")\n"
   ]
  },
  {
   "cell_type": "code",
   "execution_count": 5,
   "metadata": {},
   "outputs": [
    {
     "name": "stdout",
     "output_type": "stream",
     "text": [
      "oh0\n",
      "oh1\n",
      "oh2\n",
      "oh3\n"
     ]
    },
    {
     "ename": "KeyboardInterrupt",
     "evalue": "",
     "output_type": "error",
     "traceback": [
      "\u001b[1;31m---------------------------------------------------------------------------\u001b[0m",
      "\u001b[1;31mEmpty\u001b[0m                                     Traceback (most recent call last)",
      "\u001b[1;32mc:\\Users\\Luna\\anaconda3\\envs\\mentalab3\\lib\\site-packages\\joblib\\parallel.py\u001b[0m in \u001b[0;36mdispatch_one_batch\u001b[1;34m(self, iterator)\u001b[0m\n\u001b[0;32m    821\u001b[0m             \u001b[1;32mtry\u001b[0m\u001b[1;33m:\u001b[0m\u001b[1;33m\u001b[0m\u001b[1;33m\u001b[0m\u001b[0m\n\u001b[1;32m--> 822\u001b[1;33m                 \u001b[0mtasks\u001b[0m \u001b[1;33m=\u001b[0m \u001b[0mself\u001b[0m\u001b[1;33m.\u001b[0m\u001b[0m_ready_batches\u001b[0m\u001b[1;33m.\u001b[0m\u001b[0mget\u001b[0m\u001b[1;33m(\u001b[0m\u001b[0mblock\u001b[0m\u001b[1;33m=\u001b[0m\u001b[1;32mFalse\u001b[0m\u001b[1;33m)\u001b[0m\u001b[1;33m\u001b[0m\u001b[1;33m\u001b[0m\u001b[0m\n\u001b[0m\u001b[0;32m    823\u001b[0m             \u001b[1;32mexcept\u001b[0m \u001b[0mqueue\u001b[0m\u001b[1;33m.\u001b[0m\u001b[0mEmpty\u001b[0m\u001b[1;33m:\u001b[0m\u001b[1;33m\u001b[0m\u001b[1;33m\u001b[0m\u001b[0m\n",
      "\u001b[1;32mc:\\Users\\Luna\\anaconda3\\envs\\mentalab3\\lib\\queue.py\u001b[0m in \u001b[0;36mget\u001b[1;34m(self, block, timeout)\u001b[0m\n\u001b[0;32m    160\u001b[0m                 \u001b[1;32mif\u001b[0m \u001b[1;32mnot\u001b[0m \u001b[0mself\u001b[0m\u001b[1;33m.\u001b[0m\u001b[0m_qsize\u001b[0m\u001b[1;33m(\u001b[0m\u001b[1;33m)\u001b[0m\u001b[1;33m:\u001b[0m\u001b[1;33m\u001b[0m\u001b[1;33m\u001b[0m\u001b[0m\n\u001b[1;32m--> 161\u001b[1;33m                     \u001b[1;32mraise\u001b[0m \u001b[0mEmpty\u001b[0m\u001b[1;33m\u001b[0m\u001b[1;33m\u001b[0m\u001b[0m\n\u001b[0m\u001b[0;32m    162\u001b[0m             \u001b[1;32melif\u001b[0m \u001b[0mtimeout\u001b[0m \u001b[1;32mis\u001b[0m \u001b[1;32mNone\u001b[0m\u001b[1;33m:\u001b[0m\u001b[1;33m\u001b[0m\u001b[1;33m\u001b[0m\u001b[0m\n",
      "\u001b[1;31mEmpty\u001b[0m: ",
      "\nDuring handling of the above exception, another exception occurred:\n",
      "\u001b[1;31mKeyboardInterrupt\u001b[0m                         Traceback (most recent call last)",
      "\u001b[1;32m<ipython-input-5-c6d8f9816566>\u001b[0m in \u001b[0;36m<module>\u001b[1;34m\u001b[0m\n\u001b[0;32m      5\u001b[0m     \u001b[0mprint\u001b[0m\u001b[1;33m(\u001b[0m\u001b[1;34mf\"oh{x}\"\u001b[0m\u001b[1;33m)\u001b[0m\u001b[1;33m\u001b[0m\u001b[1;33m\u001b[0m\u001b[0m\n\u001b[0;32m      6\u001b[0m \u001b[1;33m\u001b[0m\u001b[0m\n\u001b[1;32m----> 7\u001b[1;33m \u001b[0mParallel\u001b[0m\u001b[1;33m(\u001b[0m\u001b[0mn_jobs\u001b[0m\u001b[1;33m=\u001b[0m\u001b[1;33m-\u001b[0m\u001b[1;36m2\u001b[0m\u001b[1;33m,\u001b[0m \u001b[0mbackend\u001b[0m\u001b[1;33m=\u001b[0m\u001b[1;34m\"loky\"\u001b[0m\u001b[1;33m)\u001b[0m\u001b[1;33m(\u001b[0m\u001b[0mdelayed\u001b[0m\u001b[1;33m(\u001b[0m\u001b[0mhi\u001b[0m\u001b[1;33m(\u001b[0m\u001b[0mi\u001b[0m\u001b[1;33m)\u001b[0m\u001b[1;33m)\u001b[0m \u001b[1;32mfor\u001b[0m \u001b[0mi\u001b[0m \u001b[1;32min\u001b[0m \u001b[0mrange\u001b[0m\u001b[1;33m(\u001b[0m\u001b[1;36m10\u001b[0m\u001b[1;33m)\u001b[0m\u001b[1;33m)\u001b[0m\u001b[1;33m\u001b[0m\u001b[1;33m\u001b[0m\u001b[0m\n\u001b[0m",
      "\u001b[1;32mc:\\Users\\Luna\\anaconda3\\envs\\mentalab3\\lib\\site-packages\\joblib\\parallel.py\u001b[0m in \u001b[0;36m__call__\u001b[1;34m(self, iterable)\u001b[0m\n\u001b[0;32m   1041\u001b[0m             \u001b[1;31m# remaining jobs.\u001b[0m\u001b[1;33m\u001b[0m\u001b[1;33m\u001b[0m\u001b[1;33m\u001b[0m\u001b[0m\n\u001b[0;32m   1042\u001b[0m             \u001b[0mself\u001b[0m\u001b[1;33m.\u001b[0m\u001b[0m_iterating\u001b[0m \u001b[1;33m=\u001b[0m \u001b[1;32mFalse\u001b[0m\u001b[1;33m\u001b[0m\u001b[1;33m\u001b[0m\u001b[0m\n\u001b[1;32m-> 1043\u001b[1;33m             \u001b[1;32mif\u001b[0m \u001b[0mself\u001b[0m\u001b[1;33m.\u001b[0m\u001b[0mdispatch_one_batch\u001b[0m\u001b[1;33m(\u001b[0m\u001b[0miterator\u001b[0m\u001b[1;33m)\u001b[0m\u001b[1;33m:\u001b[0m\u001b[1;33m\u001b[0m\u001b[1;33m\u001b[0m\u001b[0m\n\u001b[0m\u001b[0;32m   1044\u001b[0m                 \u001b[0mself\u001b[0m\u001b[1;33m.\u001b[0m\u001b[0m_iterating\u001b[0m \u001b[1;33m=\u001b[0m \u001b[0mself\u001b[0m\u001b[1;33m.\u001b[0m\u001b[0m_original_iterator\u001b[0m \u001b[1;32mis\u001b[0m \u001b[1;32mnot\u001b[0m \u001b[1;32mNone\u001b[0m\u001b[1;33m\u001b[0m\u001b[1;33m\u001b[0m\u001b[0m\n\u001b[0;32m   1045\u001b[0m \u001b[1;33m\u001b[0m\u001b[0m\n",
      "\u001b[1;32mc:\\Users\\Luna\\anaconda3\\envs\\mentalab3\\lib\\site-packages\\joblib\\parallel.py\u001b[0m in \u001b[0;36mdispatch_one_batch\u001b[1;34m(self, iterator)\u001b[0m\n\u001b[0;32m    831\u001b[0m                 \u001b[0mbig_batch_size\u001b[0m \u001b[1;33m=\u001b[0m \u001b[0mbatch_size\u001b[0m \u001b[1;33m*\u001b[0m \u001b[0mn_jobs\u001b[0m\u001b[1;33m\u001b[0m\u001b[1;33m\u001b[0m\u001b[0m\n\u001b[0;32m    832\u001b[0m \u001b[1;33m\u001b[0m\u001b[0m\n\u001b[1;32m--> 833\u001b[1;33m                 \u001b[0mislice\u001b[0m \u001b[1;33m=\u001b[0m \u001b[0mlist\u001b[0m\u001b[1;33m(\u001b[0m\u001b[0mitertools\u001b[0m\u001b[1;33m.\u001b[0m\u001b[0mislice\u001b[0m\u001b[1;33m(\u001b[0m\u001b[0miterator\u001b[0m\u001b[1;33m,\u001b[0m \u001b[0mbig_batch_size\u001b[0m\u001b[1;33m)\u001b[0m\u001b[1;33m)\u001b[0m\u001b[1;33m\u001b[0m\u001b[1;33m\u001b[0m\u001b[0m\n\u001b[0m\u001b[0;32m    834\u001b[0m                 \u001b[1;32mif\u001b[0m \u001b[0mlen\u001b[0m\u001b[1;33m(\u001b[0m\u001b[0mislice\u001b[0m\u001b[1;33m)\u001b[0m \u001b[1;33m==\u001b[0m \u001b[1;36m0\u001b[0m\u001b[1;33m:\u001b[0m\u001b[1;33m\u001b[0m\u001b[1;33m\u001b[0m\u001b[0m\n\u001b[0;32m    835\u001b[0m                     \u001b[1;32mreturn\u001b[0m \u001b[1;32mFalse\u001b[0m\u001b[1;33m\u001b[0m\u001b[1;33m\u001b[0m\u001b[0m\n",
      "\u001b[1;32m<ipython-input-5-c6d8f9816566>\u001b[0m in \u001b[0;36m<genexpr>\u001b[1;34m(.0)\u001b[0m\n\u001b[0;32m      5\u001b[0m     \u001b[0mprint\u001b[0m\u001b[1;33m(\u001b[0m\u001b[1;34mf\"oh{x}\"\u001b[0m\u001b[1;33m)\u001b[0m\u001b[1;33m\u001b[0m\u001b[1;33m\u001b[0m\u001b[0m\n\u001b[0;32m      6\u001b[0m \u001b[1;33m\u001b[0m\u001b[0m\n\u001b[1;32m----> 7\u001b[1;33m \u001b[0mParallel\u001b[0m\u001b[1;33m(\u001b[0m\u001b[0mn_jobs\u001b[0m\u001b[1;33m=\u001b[0m\u001b[1;33m-\u001b[0m\u001b[1;36m2\u001b[0m\u001b[1;33m,\u001b[0m \u001b[0mbackend\u001b[0m\u001b[1;33m=\u001b[0m\u001b[1;34m\"loky\"\u001b[0m\u001b[1;33m)\u001b[0m\u001b[1;33m(\u001b[0m\u001b[0mdelayed\u001b[0m\u001b[1;33m(\u001b[0m\u001b[0mhi\u001b[0m\u001b[1;33m(\u001b[0m\u001b[0mi\u001b[0m\u001b[1;33m)\u001b[0m\u001b[1;33m)\u001b[0m \u001b[1;32mfor\u001b[0m \u001b[0mi\u001b[0m \u001b[1;32min\u001b[0m \u001b[0mrange\u001b[0m\u001b[1;33m(\u001b[0m\u001b[1;36m10\u001b[0m\u001b[1;33m)\u001b[0m\u001b[1;33m)\u001b[0m\u001b[1;33m\u001b[0m\u001b[1;33m\u001b[0m\u001b[0m\n\u001b[0m",
      "\u001b[1;32m<ipython-input-5-c6d8f9816566>\u001b[0m in \u001b[0;36mhi\u001b[1;34m(x)\u001b[0m\n\u001b[0;32m      2\u001b[0m \u001b[1;32mimport\u001b[0m \u001b[0mtime\u001b[0m\u001b[1;33m\u001b[0m\u001b[1;33m\u001b[0m\u001b[0m\n\u001b[0;32m      3\u001b[0m \u001b[1;32mdef\u001b[0m \u001b[0mhi\u001b[0m\u001b[1;33m(\u001b[0m\u001b[0mx\u001b[0m\u001b[1;33m)\u001b[0m\u001b[1;33m:\u001b[0m\u001b[1;33m\u001b[0m\u001b[1;33m\u001b[0m\u001b[0m\n\u001b[1;32m----> 4\u001b[1;33m     \u001b[0mtime\u001b[0m\u001b[1;33m.\u001b[0m\u001b[0msleep\u001b[0m\u001b[1;33m(\u001b[0m\u001b[0mx\u001b[0m\u001b[1;33m)\u001b[0m\u001b[1;33m\u001b[0m\u001b[1;33m\u001b[0m\u001b[0m\n\u001b[0m\u001b[0;32m      5\u001b[0m     \u001b[0mprint\u001b[0m\u001b[1;33m(\u001b[0m\u001b[1;34mf\"oh{x}\"\u001b[0m\u001b[1;33m)\u001b[0m\u001b[1;33m\u001b[0m\u001b[1;33m\u001b[0m\u001b[0m\n\u001b[0;32m      6\u001b[0m \u001b[1;33m\u001b[0m\u001b[0m\n",
      "\u001b[1;31mKeyboardInterrupt\u001b[0m: "
     ]
    }
   ],
   "source": []
  },
  {
   "cell_type": "code",
   "execution_count": 19,
   "metadata": {},
   "outputs": [
    {
     "name": "stdout",
     "output_type": "stream",
     "text": [
      "\n"
     ]
    },
    {
     "data": {
      "image/png": "[encoded data removed]",
      "text/plain": [
       "<Figure size 432x288 with 1 Axes>"
      ]
     },
     "metadata": {
      "needs_background": "light"
     },
     "output_type": "display_data"
    }
   ],
   "source": [
    "# each row is a subject, each column is a feature. Each value in each one is best result for one subject for that feature\n",
    "\n",
    "upDownLeftRightInnerBestResultsPerFeature = np.array([\n",
    "                                   [2,3],\n",
    "                                   [4,5],\n",
    "                                   [4,5], \n",
    "                                   [4,5], \n",
    "                                   [4,5], \n",
    "                                   [4,5], \n",
    "                                   [4,5], \n",
    "                                   [4,5],\n",
    "                                   [4,5]])\n",
    "\n",
    "plt.figure()\n",
    "plt.boxplot(upDownLeftRightInnerBestResultsPerFeature)\n",
    "print(\"\")\n",
    "\n",
    "\n",
    "# Top ten highest accuracies, up down inner,  one feature. Here though. I need to go through\n",
    "# each feature in makeTables\n",
    "\n",
    "# Accuracy 0.94 : subject 8, feature:-dataFFTCV-BC, kernelsigmoid, C:10\n",
    "\n",
    "# Accuracy 0.94 : subject 5, feature:-dataWCV-BC, kernelrbf, C:10\n",
    "\n",
    "# Accuracy 0.91 : subject 1, feature:-dataFFTCV-BC, kernelrbf, C:0.5\n",
    "\n",
    "# Accuracy 0.9 : subject 4, feature:-dataFFTCV-BC, kernellinear, C:2.5\n",
    "\n",
    "# Accuracy 0.87 : subject 7, feature:-dataFFTCV-BC, kernelrbf, C:1.2\n",
    "\n",
    "# Accuracy 0.87 : subject 2, feature:-dataWCV-BC, kernelsigmoid, C:2.5\n",
    "\n",
    "# Accuracy 0.84 : subject 9, feature:-dataWCV-BC, kernelrbf, C:10\n",
    "\n",
    "# Accuracy 0.84 : subject 6, feature:-dataWCV-BC, kernelrbf, C:0.5\n",
    "\n",
    "# Accuracy 0.77 : subject 3, feature:-dataFFTCV-BC, kernelrbf, C:10"
   ]
  },
  {
   "cell_type": "code",
   "execution_count": 20,
   "metadata": {},
   "outputs": [
    {
     "name": "stdout",
     "output_type": "stream",
     "text": [
      "\n"
     ]
    },
    {
     "data": {
      "image/png": "[encoded data removed]",
      "text/plain": [
       "<Figure size 432x288 with 1 Axes>"
      ]
     },
     "metadata": {
      "needs_background": "light"
     },
     "output_type": "display_data"
    }
   ],
   "source": [
    "\n",
    "# Accuracy 0.84 : subject 9, feature:-dataWCV-BC, kernelrbf, C:10\n",
    "\n",
    "# Accuracy 0.84 : subject 6, feature:-dataWCV-BC, kernelrbf, C:0.5\n",
    "\n",
    "# Accuracy 0.99 : subject 8, feature:dataHRCV-BCcn3-dataWCV-BC--dataFFTCV-BC, kernelrbf, C:0.5\n",
    "\n",
    "# Accuracy 0.99 : subject 5, feature:dataHRCV-BCcn3--dataWCV-BC, kernelrbf, C:10\n",
    "\n",
    "# Accuracy 0.98 : subject 7, feature:welchDatacn3BC-dataWCV-BC--dataFFTCV-BC, kernellinear, C:2.5\n",
    "\n",
    "# Accuracy 0.97 : subject 4, feature:welchDatacn3BC-dataHRCV-BC--dataWCV-BC, kernellinear, C:2.5\n",
    "\n",
    "# Accuracy 0.92 : subject 1, feature:dataHRCV-BC-dataWCV-BC--dataFFTCV-BC, kernelrbf, C:2.5\n",
    "\n",
    "# Accuracy 0.91 : subject 2, feature:welchDatacn3BC-dataWCV-BC--dataFFTCV-BC, kernelrbf, C:5\n",
    "\n",
    "# Accuracy 0.79 : subject 3, feature:dataWCV-BC--dataFFTCV-BC, kernelrbf, C:10\n",
    "\n",
    "# each row is a subject, each column is a feature. Each value in each one is best result for one subject for that feature\n",
    "upDownInnerBestResultsPerFeature = np.array([\n",
    "                                   [2,3],\n",
    "                                   [4,5],\n",
    "                                   [4,5], \n",
    "                                   [4,5], \n",
    "                                   [4,5], \n",
    "                                   [4,5], \n",
    "                                   [4,5], \n",
    "                                   [4,5],\n",
    "                                   [4,5]])\n",
    "\n",
    "plt.figure()\n",
    "plt.boxplot(upDownInnerBestResultsPerFeature)\n",
    "print(\"\")"
   ]
  },
  {
   "cell_type": "code",
   "execution_count": null,
   "metadata": {},
   "outputs": [],
   "source": [
    "# Average on up down inner, best\n",
    "# welchDatacn3BC-dataWCV-BC--dataFFTCV-BC\n",
    "# rbf\n",
    "# 0.876337822671156"
   ]
  }
 ],
 "metadata": {
  "kernelspec": {
   "display_name": "Python 3.6.15 ('mentalab3')",
   "language": "python",
   "name": "python3"
  },
  "language_info": {
   "codemirror_mode": {
    "name": "ipython",
    "version": 3
   },
   "file_extension": ".py",
   "mimetype": "text/x-python",
   "name": "python",
   "nbconvert_exporter": "python",
   "pygments_lexer": "ipython3",
   "version": "3.6.15"
  },
  "orig_nbformat": 4,
  "vscode": {
   "interpreter": {
    "hash": "f8bcbc5176f87d6e0a9613a775961ea5c82a60d33433b972fb4d296872f3e25e"
   }
  }
 },
 "nbformat": 4,
 "nbformat_minor": 2
}
