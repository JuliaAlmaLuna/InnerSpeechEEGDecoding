{
 "cells": [
  {
   "cell_type": "code",
   "execution_count": 1,
   "metadata": {},
   "outputs": [],
   "source": [
    "import os\n",
    "import mne \n",
    "import pickle\n",
    "import random\n",
    "import warnings\n",
    "import numpy as np\n",
    "import matplotlib.pyplot as plt\n",
    "\n",
    "#from google.colab import drive, files\n",
    "\n",
    "from Inner_Speech_Dataset.Python_Processing.Data_extractions import  Extract_data_from_subject\n",
    "from Inner_Speech_Dataset.Python_Processing.Data_processing import  Select_time_window, Transform_for_classificator, Split_trial_in_time\n",
    "\n",
    "\n",
    "np.random.seed(23)\n",
    "\n",
    "mne.set_log_level(verbose='warning') #to avoid info at terminal\n",
    "warnings.filterwarnings(action = \"ignore\", category = DeprecationWarning ) \n",
    "warnings.filterwarnings(action = \"ignore\", category = FutureWarning )\n",
    "\n",
    "class dataLoader():\n",
    "   \n",
    "    def load_data(datatype, sampling_rate=256, subject_nr=3, t_start=0, t_end=5):\n",
    "        root_dir = \"eeg-imagined-speech-nieto\"\n",
    "        np.random.seed(23)\n",
    "\n",
    "        mne.set_log_level(verbose='warning') #to avoid info at terminal\n",
    "        warnings.filterwarnings(action = \"ignore\", category = DeprecationWarning ) \n",
    "        warnings.filterwarnings(action = \"ignore\", category = FutureWarning )\n",
    "\n",
    "        # Sampling rate\n",
    "        fs = sampling_rate\n",
    "\n",
    "        # Subject number\n",
    "        N_S = subject_nr   #[1 to 10]\n",
    "        #datatype = \"EEG\"\n",
    "\n",
    "        # Load all trials for a sigle subject\n",
    "        X, Y = Extract_data_from_subject(root_dir, N_S, datatype)\n",
    "\n",
    "        # Cut usefull time. i.e action interval\n",
    "        X = Select_time_window(X = X, t_start = t_start, t_end = t_end, fs = fs)\n",
    "\n",
    "        print(\"Data shape: [trials x channels x samples]\")\n",
    "        print(X.shape) # Trials, channels, samples\n",
    "\n",
    "        print(\"Labels shape\")\n",
    "        print(Y.shape) # Time stamp, class , condition, session\n",
    "        #Classes :  0 = UP, 1 = DOWN, 2 = RIGHT, 3 = LEFT\n",
    "        #Conditions : 0 = Pronounced, 1 = Inner, 2 = Visualized\n",
    "        \n",
    "        # Conditions to compared\n",
    "        Conditions = [[\"Inner\"],[\"Inner\"]]\n",
    "        # The class for the above condition\n",
    "        Classes    = [  [\"Up\"] ,[\"Down\"] ]\n",
    "\n",
    "        # Transform data and keep only the trials of interest\n",
    "        if datatype!= \"baseline\":\n",
    "            X , Y =  Transform_for_classificator(X, Y, Classes, Conditions)\n",
    "        print(\"Final data shape\")\n",
    "        print(X.shape)\n",
    "\n",
    "        print(\"Final labels shape\")\n",
    "        print(Y.shape)"
   ]
  },
  {
   "cell_type": "code",
   "execution_count": 2,
   "metadata": {},
   "outputs": [
    {
     "name": "stdout",
     "output_type": "stream",
     "text": [
      "Data shape: [trials x channels x samples]\n",
      "(500, 128, 1153)\n",
      "Labels shape\n",
      "(500, 4)\n",
      "Final data shape\n",
      "(90, 128, 1153)\n",
      "Final labels shape\n",
      "(90,)\n"
     ]
    }
   ],
   "source": [
    "ldr = dataLoader()\n",
    "ldr.load_data()"
   ]
  }
 ],
 "metadata": {
  "kernelspec": {
   "display_name": "Python 3.9.13 ('Env1Belgium')",
   "language": "python",
   "name": "python3"
  },
  "language_info": {
   "codemirror_mode": {
    "name": "ipython",
    "version": 3
   },
   "file_extension": ".py",
   "mimetype": "text/x-python",
   "name": "python",
   "nbconvert_exporter": "python",
   "pygments_lexer": "ipython3",
   "version": "3.9.13"
  },
  "orig_nbformat": 4,
  "vscode": {
   "interpreter": {
    "hash": "d2b6a3e650815df2c87e1ff6265e816b9868bc51d7b4156a73676ebcd9e43bdc"
   }
  }
 },
 "nbformat": 4,
 "nbformat_minor": 2
}
