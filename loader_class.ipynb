{
 "cells": [
  {
   "cell_type": "code",
   "execution_count": 4,
   "metadata": {},
   "outputs": [],
   "source": [
    "import os\n",
    "import mne \n",
    "import pickle\n",
    "import random\n",
    "import warnings\n",
    "import numpy as np\n",
    "import matplotlib.pyplot as plt\n",
    "\n",
    "#from google.colab import drive, files\n",
    "\n",
    "from Inner_Speech_Dataset.Python_Processing.Data_extractions import  Extract_data_from_subject\n",
    "from Inner_Speech_Dataset.Python_Processing.Data_processing import  Select_time_window, Transform_for_classificator, Split_trial_in_time\n",
    "\n",
    "\n",
    "np.random.seed(23)\n",
    "\n",
    "mne.set_log_level(verbose='warning') #to avoid info at terminal\n",
    "warnings.filterwarnings(action = \"ignore\", category = DeprecationWarning ) \n",
    "warnings.filterwarnings(action = \"ignore\", category = FutureWarning )\n",
    "\n",
    "class dataLoader():\n",
    "   \n",
    "    def load_data(data_type = \"EEG\", sampling_rate=256, subject_nr=3, t_start=0, t_end=5):\n",
    "        root_dir = \"eeg-imagined-speech-nieto\"\n",
    "        np.random.seed(23)\n",
    "\n",
    "        mne.set_log_level(verbose='warning') #to avoid info at terminal\n",
    "        warnings.filterwarnings(action = \"ignore\", category = DeprecationWarning ) \n",
    "        warnings.filterwarnings(action = \"ignore\", category = FutureWarning )\n",
    "\n",
    "        # Sampling rate\n",
    "        fs = sampling_rate\n",
    "\n",
    "        # Subject number\n",
    "        N_S = subject_nr   #[1 to 10]\n",
    "        datatype = \"EEG\"\n",
    "\n",
    "        # Load all trials for a sigle subject\n",
    "        X, Y = Extract_data_from_subject(root_dir, N_S, datatype)\n",
    "\n",
    "        # Cut usefull time. i.e action interval\n",
    "        X = Select_time_window(X = X, t_start = t_start, t_end = t_end, fs = fs)\n",
    "\n",
    "        print(\"Data shape: [trials x channels x samples]\")\n",
    "        print(X.shape) # Trials, channels, samples\n",
    "\n",
    "        print(\"Labels shape\")\n",
    "        print(Y.shape) # Time stamp, class , condition, session\n",
    "        #Classes :  0 = UP, 1 = DOWN, 2 = RIGHT, 3 = LEFT\n",
    "        #Conditions : 0 = Pronounced, 1 = Inner, 2 = Visualized\n",
    "        \n",
    "        # Conditions to compared\n",
    "        Conditions = [[\"Inner\"],[\"Inner\"]]\n",
    "        # The class for the above condition\n",
    "        Classes    = [  [\"Up\"] ,[\"Down\"] ]\n",
    "\n",
    "        # Transform data and keep only the trials of interes\n",
    "        X , Y =  Transform_for_classificator(X, Y, Classes, Conditions)\n",
    "        print(\"Final data shape\")\n",
    "        print(X.shape)\n",
    "\n",
    "        print(\"Final labels shape\")\n",
    "        print(Y.shape)"
   ]
  },
  {
   "cell_type": "code",
   "execution_count": 5,
   "metadata": {},
   "outputs": [
    {
     "ename": "Exception",
     "evalue": "Invalid Datatype",
     "output_type": "error",
     "traceback": [
      "\u001b[1;31m---------------------------------------------------------------------------\u001b[0m",
      "\u001b[1;31mException\u001b[0m                                 Traceback (most recent call last)",
      "\u001b[1;32mUntitled-1.ipynb Cell 2\u001b[0m in \u001b[0;36m<cell line: 2>\u001b[1;34m()\u001b[0m\n\u001b[0;32m      <a href='vscode-notebook-cell:Untitled-1.ipynb?jupyter-notebook#W1sdW50aXRsZWQ%3D?line=0'>1</a>\u001b[0m ldr \u001b[39m=\u001b[39m dataLoader()\n\u001b[1;32m----> <a href='vscode-notebook-cell:Untitled-1.ipynb?jupyter-notebook#W1sdW50aXRsZWQ%3D?line=1'>2</a>\u001b[0m ldr\u001b[39m.\u001b[39;49mload_data()\n",
      "\u001b[1;32mUntitled-1.ipynb Cell 2\u001b[0m in \u001b[0;36mdataLoader.load_data\u001b[1;34m(data_type, sampling_rate, subject_nr, t_start, t_end)\u001b[0m\n\u001b[0;32m     <a href='vscode-notebook-cell:Untitled-1.ipynb?jupyter-notebook#W1sdW50aXRsZWQ%3D?line=34'>35</a>\u001b[0m N_S \u001b[39m=\u001b[39m subject_nr   \u001b[39m#[1 to 10]\u001b[39;00m\n\u001b[0;32m     <a href='vscode-notebook-cell:Untitled-1.ipynb?jupyter-notebook#W1sdW50aXRsZWQ%3D?line=37'>38</a>\u001b[0m \u001b[39m# Load all trials for a sigle subject\u001b[39;00m\n\u001b[1;32m---> <a href='vscode-notebook-cell:Untitled-1.ipynb?jupyter-notebook#W1sdW50aXRsZWQ%3D?line=38'>39</a>\u001b[0m X, Y \u001b[39m=\u001b[39m Extract_data_from_subject(root_dir, N_S, data_type)\n\u001b[0;32m     <a href='vscode-notebook-cell:Untitled-1.ipynb?jupyter-notebook#W1sdW50aXRsZWQ%3D?line=40'>41</a>\u001b[0m \u001b[39m# Cut usefull time. i.e action interval\u001b[39;00m\n\u001b[0;32m     <a href='vscode-notebook-cell:Untitled-1.ipynb?jupyter-notebook#W1sdW50aXRsZWQ%3D?line=41'>42</a>\u001b[0m X \u001b[39m=\u001b[39m Select_time_window(X \u001b[39m=\u001b[39m X, t_start \u001b[39m=\u001b[39m t_start, t_end \u001b[39m=\u001b[39m t_end, fs \u001b[39m=\u001b[39m fs)\n",
      "File \u001b[1;32mc:\\Users\\julia\\OneDrive\\Documents\\BelgiumFiles\\NietoExcercise\\Inner_Speech_Dataset\\Python_Processing\\Data_extractions.py:59\u001b[0m, in \u001b[0;36mExtract_data_from_subject\u001b[1;34m(root_dir, N_S, datatype)\u001b[0m\n\u001b[0;32m     56\u001b[0m         data[N_B]\u001b[39m=\u001b[39m X\u001b[39m.\u001b[39m_data\n\u001b[0;32m     58\u001b[0m     \u001b[39melse\u001b[39;00m:\n\u001b[1;32m---> 59\u001b[0m         \u001b[39mraise\u001b[39;00m \u001b[39mException\u001b[39;00m(\u001b[39m\"\u001b[39m\u001b[39mInvalid Datatype\u001b[39m\u001b[39m\"\u001b[39m)\n\u001b[0;32m     61\u001b[0m X \u001b[39m=\u001b[39m np\u001b[39m.\u001b[39mvstack((data\u001b[39m.\u001b[39mget(\u001b[39m1\u001b[39m),data\u001b[39m.\u001b[39mget(\u001b[39m2\u001b[39m),data\u001b[39m.\u001b[39mget(\u001b[39m3\u001b[39m))) \n\u001b[0;32m     64\u001b[0m Y \u001b[39m=\u001b[39m np\u001b[39m.\u001b[39mvstack((y\u001b[39m.\u001b[39mget(\u001b[39m1\u001b[39m),y\u001b[39m.\u001b[39mget(\u001b[39m2\u001b[39m),y\u001b[39m.\u001b[39mget(\u001b[39m3\u001b[39m))) \n",
      "\u001b[1;31mException\u001b[0m: Invalid Datatype"
     ]
    }
   ],
   "source": [
    "ldr = dataLoader()\n",
    "ldr.load_data()"
   ]
  }
 ],
 "metadata": {
  "kernelspec": {
   "display_name": "Python 3.9.13 ('Env1Belgium')",
   "language": "python",
   "name": "python3"
  },
  "language_info": {
   "codemirror_mode": {
    "name": "ipython",
    "version": 3
   },
   "file_extension": ".py",
   "mimetype": "text/x-python",
   "name": "python",
   "nbconvert_exporter": "python",
   "pygments_lexer": "ipython3",
   "version": "3.9.13"
  },
  "orig_nbformat": 4,
  "vscode": {
   "interpreter": {
    "hash": "d2b6a3e650815df2c87e1ff6265e816b9868bc51d7b4156a73676ebcd9e43bdc"
   }
  }
 },
 "nbformat": 4,
 "nbformat_minor": 2
}
