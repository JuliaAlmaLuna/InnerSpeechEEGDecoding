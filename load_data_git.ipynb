{
 "cells": [
  {
   "cell_type": "code",
   "execution_count": 89,
   "metadata": {},
   "outputs": [],
   "source": [
    "#@title Imports \n",
    "import os\n",
    "import mne \n",
    "import pickle\n",
    "import random\n",
    "import warnings\n",
    "import numpy as np\n",
    "import matplotlib.pyplot as plt\n",
    "\n",
    "#from google.colab import drive, files\n",
    "\n",
    "from Inner_Speech_Dataset.Python_Processing.Data_extractions import  Extract_data_from_subject\n",
    "from Inner_Speech_Dataset.Python_Processing.Data_processing import  Select_time_window, Transform_for_classificator, Split_trial_in_time\n",
    "\n",
    "np.random.seed(23)\n",
    "\n",
    "mne.set_log_level(verbose='warning') #to avoid info at terminal\n",
    "warnings.filterwarnings(action = \"ignore\", category = DeprecationWarning ) \n",
    "warnings.filterwarnings(action = \"ignore\", category = FutureWarning )"
   ]
  },
  {
   "cell_type": "code",
   "execution_count": 90,
   "metadata": {},
   "outputs": [],
   "source": [
    "### Hyperparameters\n",
    "\n",
    "# The root dir have to point to the folder that cointains the database\n",
    "root_dir = \"eeg-imagined-speech-nieto\"\n",
    "\n",
    "# Data Type\n",
    "datatype = \"EEG\"\n",
    "datatype2 = \"\"\n",
    "\n",
    "# Sampling rate\n",
    "fs = 256\n",
    "\n",
    "# Select the useful par of each trial. Time in seconds\n",
    "t_start = 0.5\n",
    "t_end = 20\n",
    "\n",
    "# Subject number\n",
    "N_S = 3   #[1 to 10]\n"
   ]
  },
  {
   "cell_type": "code",
   "execution_count": 91,
   "metadata": {},
   "outputs": [],
   "source": [
    "#@title Data extraction and processing\n",
    "\n",
    "# Load all trials for a sigle subject\n",
    "X, Y = Extract_data_from_subject(root_dir, N_S, datatype)\n",
    "\n",
    "\n",
    "# Cut usefull time. i.e action interval\n",
    "X = Select_time_window(X = X, t_start = t_start, t_end = t_end, fs = fs)"
   ]
  },
  {
   "cell_type": "code",
   "execution_count": 92,
   "metadata": {},
   "outputs": [
    {
     "name": "stdout",
     "output_type": "stream",
     "text": [
      "Data shape: [trials x channels x samples]\n",
      "(500, 128, 1025)\n",
      "Labels shape\n",
      "(500, 4)\n"
     ]
    }
   ],
   "source": [
    "print(\"Data shape: [trials x channels x samples]\")\n",
    "print(X.shape) # Trials, channels, samples\n",
    "\n",
    "print(\"Labels shape\")\n",
    "print(Y.shape) # Time stamp, class , condition, session\n",
    "#Classes :  0 = UP, 1 = DOWN, 2 = RIGHT, 3 = LEFT\n",
    "#Conditions : 0 = Pronounced, 1 = Inner, 2 = Visualized"
   ]
  },
  {
   "cell_type": "code",
   "execution_count": 93,
   "metadata": {},
   "outputs": [],
   "source": [
    "# Conditions to compared\n",
    "Conditions = [[\"Inner\"],[\"Inner\"]]\n",
    "# The class for the above condition\n",
    "Classes    = [  [\"Up\"] ,[\"Down\"] ]\n"
   ]
  },
  {
   "cell_type": "code",
   "execution_count": 94,
   "metadata": {},
   "outputs": [],
   "source": [
    "# Transform data and keep only the trials of interes\n",
    "X , Y =  Transform_for_classificator(X, Y, Classes, Conditions)"
   ]
  },
  {
   "cell_type": "code",
   "execution_count": 95,
   "metadata": {},
   "outputs": [
    {
     "name": "stdout",
     "output_type": "stream",
     "text": [
      "Final data shape\n",
      "(90, 128, 1025)\n",
      "Final labels shape\n",
      "(90,)\n"
     ]
    }
   ],
   "source": [
    "print(\"Final data shape\")\n",
    "print(X.shape)\n",
    "\n",
    "print(\"Final labels shape\")\n",
    "print(Y.shape)"
   ]
  }
 ],
 "metadata": {
  "kernelspec": {
   "display_name": "Python 3.9.13 ('Env1Belgium')",
   "language": "python",
   "name": "python3"
  },
  "language_info": {
   "codemirror_mode": {
    "name": "ipython",
    "version": 3
   },
   "file_extension": ".py",
   "mimetype": "text/x-python",
   "name": "python",
   "nbconvert_exporter": "python",
   "pygments_lexer": "ipython3",
   "version": "3.9.13"
  },
  "orig_nbformat": 4,
  "vscode": {
   "interpreter": {
    "hash": "d2b6a3e650815df2c87e1ff6265e816b9868bc51d7b4156a73676ebcd9e43bdc"
   }
  }
 },
 "nbformat": 4,
 "nbformat_minor": 2
}
