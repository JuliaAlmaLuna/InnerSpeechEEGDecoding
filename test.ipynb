{
 "cells": [
  {
   "cell_type": "code",
   "execution_count": null,
   "metadata": {},
   "outputs": [],
   "source": [
    "d = 3 \n",
    "b  =  5 \n",
    "e = d + b "
   ]
  }
 ],
 "metadata": {
  "kernelspec": {
   "display_name": "Python 3.9.6 64-bit",
   "language": "python",
   "name": "python3"
  },
  "language_info": {
   "name": "python",
   "version": "3.9.6"
  },
  "orig_nbformat": 4,
  "vscode": {
   "interpreter": {
    "hash": "e7bcd4bc356ddf5f625d74850a8c16eeecb3909da86156df6e11fed4fdd37981"
   }
  }
 },
 "nbformat": 4,
 "nbformat_minor": 2
}
