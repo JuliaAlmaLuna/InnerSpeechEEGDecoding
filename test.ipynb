{
 "cells": [
  {
   "cell_type": "code",
   "execution_count": 1,
   "metadata": {},
   "outputs": [],
   "source": [
    "import numpy as np\n",
    "import itertools\n",
    "from itertools import permutations\n",
    "combos = []\n",
    "featureList = [1,2,3]\n",
    "dataNrs = np.arange(len(featureList))\n",
    "\n",
    "maxCombinationAmount = 1\n",
    "if maxCombinationAmount > len(dataNrs):\n",
    "    maxCombinationAmount = len(dataNrs)\n",
    "for L in range(1, maxCombinationAmount  + 1):\n",
    "            for subsetNr in itertools.combinations(dataNrs, L):\n",
    "                combos.append(subsetNr)"
   ]
  },
  {
   "cell_type": "code",
   "execution_count": 14,
   "metadata": {},
   "outputs": [],
   "source": [
    "h = \"gsdgdsfgsd\"\n",
    "if \"j\" in h:\n",
    "    print(\"asfsad\")"
   ]
  },
  {
   "cell_type": "code",
   "execution_count": 17,
   "metadata": {},
   "outputs": [
    {
     "name": "stdout",
     "output_type": "stream",
     "text": [
      "(10, 120, 2)\n",
      "(10, 240)\n"
     ]
    }
   ],
   "source": [
    "import numpy as np\n",
    "h = np.zeros([10,120,2])\n",
    "print(h.shape)\n",
    "h = np.reshape(h, [h.shape[0],-1])\n",
    "print(h.shape)\n"
   ]
  },
  {
   "cell_type": "code",
   "execution_count": 12,
   "metadata": {},
   "outputs": [
    {
     "name": "stdout",
     "output_type": "stream",
     "text": [
      "(10, 307)\n",
      "(10, 299)\n"
     ]
    }
   ],
   "source": [
    "\n",
    "h = np.ones([10,307])\n",
    "print(h.shape)\n",
    "while True:\n",
    "    if h.shape[1] % 13 != 0:\n",
    "        h = h[:,:-1]\n",
    "    else:\n",
    "        break\n",
    "print(h.shape)"
   ]
  },
  {
   "cell_type": "code",
   "execution_count": 66,
   "metadata": {},
   "outputs": [
    {
     "data": {
      "text/plain": [
       "array([ True, False,  True,  True])"
      ]
     },
     "execution_count": 66,
     "metadata": {},
     "output_type": "execute_result"
    }
   ],
   "source": [
    "b = np.array([ 1 , 0, 6, 4] ) \n",
    "c = np.array([ 1 , 0, 0, 4] )\n",
    "#np.where( b == 2)[0]\n",
    "#any([any(b==3), any(b==4)])\n",
    "\n",
    "#any([True, False])\n",
    "#np.where(b == 3 or b == 4)\n",
    "[b != 0][0] + [c!=0 ][0]"
   ]
  },
  {
   "cell_type": "code",
   "execution_count": 13,
   "metadata": {},
   "outputs": [
    {
     "data": {
      "text/plain": [
       "array([1, 3])"
      ]
     },
     "execution_count": 13,
     "metadata": {},
     "output_type": "execute_result"
    }
   ],
   "source": [
    "import numpy as np\n",
    "a = np.array([0,1,0,3])\n",
    "c = np.array([5,1,2,3])\n",
    "\n",
    "b = c[np.where(a != 0)[0]]\n",
    "b"
   ]
  },
  {
   "cell_type": "code",
   "execution_count": 35,
   "metadata": {},
   "outputs": [
    {
     "name": "stdout",
     "output_type": "stream",
     "text": [
      "[(0,), (1,), (2,), (0, 1), (0, 2), (1, 0), (1, 2), (2, 0), (2, 1), (0, 1, 2), (0, 2, 1), (1, 0, 2), (1, 2, 0), (2, 0, 1), (2, 1, 0)]\n"
     ]
    }
   ],
   "source": [
    "maxCombinationAmount = 6\n",
    "combos2 = []\n",
    "if maxCombinationAmount > len(dataNrs):\n",
    "    maxCombinationAmount = len(dataNrs)\n",
    "for x in range(1,maxCombinationAmount+1):\n",
    "    combos2.extend(list(itertools.permutations(dataNrs, x)))\n",
    "print(combos2)\n"
   ]
  },
  {
   "cell_type": "code",
   "execution_count": 36,
   "metadata": {},
   "outputs": [
    {
     "data": {
      "text/plain": [
       "[(0,), (1,), (2,), (0, 1), (0, 2), (1, 2), (0, 1, 2)]"
      ]
     },
     "execution_count": 36,
     "metadata": {},
     "output_type": "execute_result"
    }
   ],
   "source": [
    "combos"
   ]
  }
 ],
 "metadata": {
  "kernelspec": {
   "display_name": "Python 3.9.6 64-bit",
   "language": "python",
   "name": "python3"
  },
  "language_info": {
   "codemirror_mode": {
    "name": "ipython",
    "version": 3
   },
   "file_extension": ".py",
   "mimetype": "text/x-python",
   "name": "python",
   "nbconvert_exporter": "python",
   "pygments_lexer": "ipython3",
   "version": "3.9.6"
  },
  "orig_nbformat": 4,
  "vscode": {
   "interpreter": {
    "hash": "e7bcd4bc356ddf5f625d74850a8c16eeecb3909da86156df6e11fed4fdd37981"
   }
  }
 },
 "nbformat": 4,
 "nbformat_minor": 2
}
