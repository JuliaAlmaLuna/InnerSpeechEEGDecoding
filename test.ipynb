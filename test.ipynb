{
 "cells": [
  {
   "cell_type": "code",
   "execution_count": 1,
   "metadata": {},
   "outputs": [],
   "source": [
    "import numpy as np\n",
    "import itertools\n",
    "from itertools import permutations\n",
    "combos = []\n",
    "featureList = [1,2,3]\n",
    "dataNrs = np.arange(len(featureList))\n",
    "\n",
    "maxCombinationAmount = 1\n",
    "if maxCombinationAmount > len(dataNrs):\n",
    "    maxCombinationAmount = len(dataNrs)\n",
    "for L in range(1, maxCombinationAmount  + 1):\n",
    "            for subsetNr in itertools.combinations(dataNrs, L):\n",
    "                combos.append(subsetNr)"
   ]
  },
  {
   "cell_type": "code",
   "execution_count": 3,
   "metadata": {},
   "outputs": [],
   "source": [
    "h = \"hell\"\n",
    "g = \"hel\"\n",
    "if g == h:\n",
    "    print(\"gsd\")"
   ]
  },
  {
   "cell_type": "code",
   "execution_count": 3,
   "metadata": {},
   "outputs": [
    {
     "name": "stdout",
     "output_type": "stream",
     "text": [
      "[Delayed('hopp-390566ba-ff91-465e-8db1-f7e2ec84dda6'), Delayed('hopp-1523bb28-eba4-4b3f-82ca-f6caf805fc19'), Delayed('hopp-aff0964c-5718-4605-be61-f04c89d2becf')]\n",
      "oka\n",
      "oka\n",
      "oka\n",
      "oy\n",
      "oy\n",
      "oy\n",
      "oy\n",
      "oy\n",
      "oy\n",
      "oy\n",
      "oy\n",
      "oy\n",
      "([[Delayed('jopp-e334dee7-c423-4c80-b265-127c71a8381e'), Delayed('jopp-6ddd8c6b-7f5f-4d95-9c51-74676b572517'), Delayed('jopp-79da7995-ade2-4035-a335-a1d3fcad46f8')], [Delayed('jopp-50d48bfc-b2c0-45be-a3dd-3e5e3e035963'), Delayed('jopp-efda70c7-fe8a-4fa0-b77e-6a7d27d465c6'), Delayed('jopp-cfe2bf12-73e8-42d6-8eb7-1720b544d66c')], [Delayed('jopp-ca0fa27d-335c-4140-8671-474a6cadc541'), Delayed('jopp-1d578fd0-755a-4868-8a49-5e632c2cdcc6'), Delayed('jopp-833748dd-417b-4f63-a92c-cb966a13613a')]],)\n",
      "[Delayed('hopp-390566ba-ff91-465e-8db1-f7e2ec84dda6'), Delayed('hopp-1523bb28-eba4-4b3f-82ca-f6caf805fc19'), Delayed('hopp-aff0964c-5718-4605-be61-f04c89d2becf')]\n"
     ]
    }
   ],
   "source": [
    "import dask\n",
    "import numpy\n",
    "\n",
    "@dask.delayed\n",
    "def jopp(y):\n",
    "    print(\"oy\")\n",
    "    return y*y\n",
    "\n",
    "@dask.delayed\n",
    "def hopp(x):\n",
    "    print(\"oka\")\n",
    "    return [jopp(x+1), jopp(x+2), jopp(x+3)]\n",
    "\n",
    "listList = []\n",
    "for h in range(3):\n",
    "    listList.append(hopp(h))\n",
    "    \n",
    "print(listList)\n",
    "compList = dask.compute(listList)\n",
    "comp = dask.compute(compList)\n",
    "print(compList)\n",
    "print(listList)\n",
    "#print(comp)\n",
    "\n"
   ]
  },
  {
   "cell_type": "code",
   "execution_count": 17,
   "metadata": {},
   "outputs": [
    {
     "name": "stdout",
     "output_type": "stream",
     "text": [
      "[[0. 0. 0.]\n",
      " [0. 0. 2.]\n",
      " [0. 2. 0.]]\n",
      "[2 1]\n"
     ]
    },
    {
     "data": {
      "text/plain": [
       "array([[0., 2., 0.],\n",
       "       [0., 0., 2.]])"
      ]
     },
     "execution_count": 17,
     "metadata": {},
     "output_type": "execute_result"
    }
   ],
   "source": [
    "import numpy as np\n",
    "nfp = np.zeros([3,3])\n",
    "\n",
    "nfp[1,2] = 2\n",
    "nfp[2,1] = 2\n",
    "print(nfp)\n",
    "ind = np.where(nfp>1)[1]\n",
    "print(np.where(nfp>1)[1])\n",
    "nfp[ind]"
   ]
  },
  {
   "cell_type": "code",
   "execution_count": 5,
   "metadata": {},
   "outputs": [
    {
     "name": "stdout",
     "output_type": "stream",
     "text": [
      "fftDatacn6BC\n"
     ]
    }
   ],
   "source": [
    "def insert_cn(string, index):\n",
    "    return string[:index] + f'cn{6}' + string[index:]\n",
    "    \n",
    "\n",
    "h = \"fftDataBC\"\n",
    "print(insert_cn(h, -2))"
   ]
  },
  {
   "cell_type": "code",
   "execution_count": 17,
   "metadata": {},
   "outputs": [
    {
     "name": "stdout",
     "output_type": "stream",
     "text": [
      "(10, 120, 2)\n",
      "(10, 240)\n"
     ]
    }
   ],
   "source": [
    "import numpy as np\n",
    "h = np.zeros([10,120,2])\n",
    "print(h.shape)\n",
    "h = np.reshape(h, [h.shape[0],-1])\n",
    "print(h.shape)\n"
   ]
  },
  {
   "cell_type": "code",
   "execution_count": 12,
   "metadata": {},
   "outputs": [
    {
     "name": "stdout",
     "output_type": "stream",
     "text": [
      "(10, 307)\n",
      "(10, 299)\n"
     ]
    }
   ],
   "source": [
    "\n",
    "h = np.ones([10,307])\n",
    "print(h.shape)\n",
    "while True:\n",
    "    if h.shape[1] % 13 != 0:\n",
    "        h = h[:,:-1]\n",
    "    else:\n",
    "        break\n",
    "print(h.shape)"
   ]
  },
  {
   "cell_type": "code",
   "execution_count": 66,
   "metadata": {},
   "outputs": [
    {
     "data": {
      "text/plain": [
       "array([ True, False,  True,  True])"
      ]
     },
     "execution_count": 66,
     "metadata": {},
     "output_type": "execute_result"
    }
   ],
   "source": [
    "b = np.array([ 1 , 0, 6, 4] ) \n",
    "c = np.array([ 1 , 0, 0, 4] )\n",
    "#np.where( b == 2)[0]\n",
    "#any([any(b==3), any(b==4)])\n",
    "\n",
    "#any([True, False])\n",
    "#np.where(b == 3 or b == 4)\n",
    "[b != 0][0] + [c!=0 ][0]"
   ]
  },
  {
   "cell_type": "code",
   "execution_count": 13,
   "metadata": {},
   "outputs": [
    {
     "data": {
      "text/plain": [
       "array([1, 3])"
      ]
     },
     "execution_count": 13,
     "metadata": {},
     "output_type": "execute_result"
    }
   ],
   "source": [
    "import numpy as np\n",
    "a = np.array([0,1,0,3])\n",
    "c = np.array([5,1,2,3])\n",
    "\n",
    "b = c[np.where(a != 0)[0]]\n",
    "b"
   ]
  },
  {
   "cell_type": "code",
   "execution_count": 35,
   "metadata": {},
   "outputs": [
    {
     "name": "stdout",
     "output_type": "stream",
     "text": [
      "[(0,), (1,), (2,), (0, 1), (0, 2), (1, 0), (1, 2), (2, 0), (2, 1), (0, 1, 2), (0, 2, 1), (1, 0, 2), (1, 2, 0), (2, 0, 1), (2, 1, 0)]\n"
     ]
    }
   ],
   "source": [
    "maxCombinationAmount = 6\n",
    "combos2 = []\n",
    "if maxCombinationAmount > len(dataNrs):\n",
    "    maxCombinationAmount = len(dataNrs)\n",
    "for x in range(1,maxCombinationAmount+1):\n",
    "    combos2.extend(list(itertools.permutations(dataNrs, x)))\n",
    "print(combos2)\n"
   ]
  },
  {
   "cell_type": "code",
   "execution_count": 36,
   "metadata": {},
   "outputs": [
    {
     "data": {
      "text/plain": [
       "[(0,), (1,), (2,), (0, 1), (0, 2), (1, 2), (0, 1, 2)]"
      ]
     },
     "execution_count": 36,
     "metadata": {},
     "output_type": "execute_result"
    }
   ],
   "source": [
    "combos"
   ]
  }
 ],
 "metadata": {
  "kernelspec": {
   "display_name": "Python 3.6.15 ('mentalab3')",
   "language": "python",
   "name": "python3"
  },
  "language_info": {
   "codemirror_mode": {
    "name": "ipython",
    "version": 3
   },
   "file_extension": ".py",
   "mimetype": "text/x-python",
   "name": "python",
   "nbconvert_exporter": "python",
   "pygments_lexer": "ipython3",
   "version": "3.6.15"
  },
  "orig_nbformat": 4,
  "vscode": {
   "interpreter": {
    "hash": "f8bcbc5176f87d6e0a9613a775961ea5c82a60d33433b972fb4d296872f3e25e"
   }
  }
 },
 "nbformat": 4,
 "nbformat_minor": 2
}
